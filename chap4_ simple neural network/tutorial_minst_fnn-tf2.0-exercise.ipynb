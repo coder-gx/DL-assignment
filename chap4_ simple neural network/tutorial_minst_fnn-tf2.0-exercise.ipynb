{
 "cells": [
  {
   "cell_type": "markdown",
   "metadata": {},
   "source": [
    "## 准备数据"
   ]
  },
  {
   "cell_type": "code",
   "execution_count": 2,
   "metadata": {},
   "outputs": [],
   "source": [
    "import os\n",
    "import numpy as np\n",
    "import tensorflow as tf\n",
    "from tensorflow import keras\n",
    "from tensorflow.keras import layers, optimizers, datasets\n",
    "\n",
    "os.environ['TF_CPP_MIN_LOG_LEVEL'] = '2'  # or any {'0', '1', '2'}\n",
    "\n",
    "def mnist_dataset():\n",
    "    (x, y), (x_test, y_test) = datasets.mnist.load_data()\n",
    "    #normalize\n",
    "    x = x/255.0\n",
    "    x_test = x_test/255.0\n",
    "    \n",
    "    return (x, y), (x_test, y_test)"
   ]
  },
  {
   "cell_type": "code",
   "execution_count": 8,
   "metadata": {},
   "outputs": [
    {
     "name": "stdout",
     "output_type": "stream",
     "text": [
      "[(1, 'a'), (2, 'b'), (3, 'c'), (4, 'd')]\n"
     ]
    }
   ],
   "source": [
    "print(list(zip([1, 2, 3, 4], ['a', 'b', 'c', 'd'])))"
   ]
  },
  {
   "cell_type": "markdown",
   "metadata": {},
   "source": [
    "## 建立模型"
   ]
  },
  {
   "cell_type": "code",
   "execution_count": 17,
   "metadata": {},
   "outputs": [],
   "source": [
    " \n",
    "\n",
    "\n",
    "class myModel:\n",
    "    def __init__(self):\n",
    "        ####################\n",
    "        '''声明模型对应的参数'''\n",
    "        self.W1 = tf.Variable(tf.random.normal([28*28, 100]),name='W1')\n",
    "        self.b1 = tf.Variable(tf.zeros([100]), name='b1')\n",
    "        # Define parameters and biases for the second dense layer\n",
    "        self.W2 = tf.Variable(tf.random.normal([100, 10]), name='W1')\n",
    "        self.b2 = tf.Variable(tf.zeros([10]), name='b2')\n",
    "        ####################\n",
    "    def __call__(self, x):\n",
    "        ####################\n",
    "        '''实现模型函数体，返回未归一化的logits'''\n",
    "        logits = tf.reshape(x, [-1, 28*28])  \n",
    "        logits = tf.matmul(logits, self.W1) + self.b1  \n",
    "        logits = tf.nn.relu(logits)  \n",
    "        logits = tf.matmul(logits, self.W2) + self.b2  \n",
    "        ####################\n",
    "        return logits\n",
    "        \n",
    "model = myModel()\n",
    "\n",
    "optimizer = optimizers.Adam()"
   ]
  },
  {
   "cell_type": "markdown",
   "metadata": {},
   "source": [
    "## 计算 loss"
   ]
  },
  {
   "cell_type": "code",
   "execution_count": 18,
   "metadata": {},
   "outputs": [],
   "source": [
    "@tf.function\n",
    "def compute_loss(logits, labels):\n",
    "    return tf.reduce_mean(\n",
    "        tf.nn.sparse_softmax_cross_entropy_with_logits(\n",
    "            logits=logits, labels=labels))\n",
    "\n",
    "@tf.function\n",
    "def compute_accuracy(logits, labels):\n",
    "    predictions = tf.argmax(logits, axis=1)\n",
    "    return tf.reduce_mean(tf.cast(tf.equal(predictions, labels), tf.float32))\n",
    "\n",
    "@tf.function\n",
    "def train_one_step(model, optimizer, x, y):\n",
    "    with tf.GradientTape() as tape:\n",
    "        logits = model(x)\n",
    "        loss = compute_loss(logits, y)\n",
    "\n",
    "    # compute gradient\n",
    "    trainable_vars = [model.W1, model.W2, model.b1, model.b2]\n",
    "    grads = tape.gradient(loss, trainable_vars)\n",
    "    for g, v in zip(grads, trainable_vars):\n",
    "        v.assign_sub(0.01*g)\n",
    "\n",
    "    accuracy = compute_accuracy(logits, y)\n",
    "\n",
    "    # loss and accuracy is scalar tensor\n",
    "    return loss, accuracy\n",
    "\n",
    "@tf.function\n",
    "def test(model, x, y):\n",
    "    logits = model(x)\n",
    "    loss = compute_loss(logits, y)\n",
    "    accuracy = compute_accuracy(logits, y)\n",
    "    return loss, accuracy"
   ]
  },
  {
   "cell_type": "markdown",
   "metadata": {},
   "source": [
    "## 实际训练"
   ]
  },
  {
   "cell_type": "code",
   "execution_count": 22,
   "metadata": {},
   "outputs": [
    {
     "name": "stdout",
     "output_type": "stream",
     "text": [
      "epoch 0 : loss 9.973646 ; accuracy 0.6702333\n",
      "epoch 1 : loss 9.951841 ; accuracy 0.67081666\n",
      "epoch 2 : loss 9.930177 ; accuracy 0.67156667\n",
      "epoch 3 : loss 9.908648 ; accuracy 0.6720667\n",
      "epoch 4 : loss 9.887256 ; accuracy 0.6727\n",
      "epoch 5 : loss 9.866002 ; accuracy 0.6731833\n",
      "epoch 6 : loss 9.844883 ; accuracy 0.67368335\n",
      "epoch 7 : loss 9.8239 ; accuracy 0.6742\n",
      "epoch 8 : loss 9.803046 ; accuracy 0.67475\n",
      "epoch 9 : loss 9.782321 ; accuracy 0.6752167\n",
      "epoch 10 : loss 9.7617235 ; accuracy 0.6757\n",
      "epoch 11 : loss 9.74125 ; accuracy 0.6763833\n",
      "epoch 12 : loss 9.720902 ; accuracy 0.67681664\n",
      "epoch 13 : loss 9.700678 ; accuracy 0.67733335\n",
      "epoch 14 : loss 9.680575 ; accuracy 0.67773336\n",
      "epoch 15 : loss 9.660594 ; accuracy 0.6781667\n",
      "epoch 16 : loss 9.640731 ; accuracy 0.6785167\n",
      "epoch 17 : loss 9.620993 ; accuracy 0.67905\n",
      "epoch 18 : loss 9.601375 ; accuracy 0.67943335\n",
      "epoch 19 : loss 9.58188 ; accuracy 0.6799\n",
      "epoch 20 : loss 9.562502 ; accuracy 0.68041664\n",
      "epoch 21 : loss 9.543241 ; accuracy 0.68075\n",
      "epoch 22 : loss 9.524092 ; accuracy 0.6813667\n",
      "epoch 23 : loss 9.505056 ; accuracy 0.6821\n",
      "epoch 24 : loss 9.4861355 ; accuracy 0.6825\n",
      "epoch 25 : loss 9.467325 ; accuracy 0.6828833\n",
      "epoch 26 : loss 9.448625 ; accuracy 0.68335\n",
      "epoch 27 : loss 9.430036 ; accuracy 0.68385\n",
      "epoch 28 : loss 9.411556 ; accuracy 0.6842167\n",
      "epoch 29 : loss 9.393185 ; accuracy 0.6845667\n",
      "epoch 30 : loss 9.374919 ; accuracy 0.6849667\n",
      "epoch 31 : loss 9.35676 ; accuracy 0.6853167\n",
      "epoch 32 : loss 9.338715 ; accuracy 0.68593335\n",
      "epoch 33 : loss 9.320775 ; accuracy 0.6863667\n",
      "epoch 34 : loss 9.302936 ; accuracy 0.68693334\n",
      "epoch 35 : loss 9.2852 ; accuracy 0.6874\n",
      "epoch 36 : loss 9.267569 ; accuracy 0.6878167\n",
      "epoch 37 : loss 9.250038 ; accuracy 0.6881667\n",
      "epoch 38 : loss 9.232612 ; accuracy 0.68848336\n",
      "epoch 39 : loss 9.215292 ; accuracy 0.68905\n",
      "epoch 40 : loss 9.198071 ; accuracy 0.68945\n",
      "epoch 41 : loss 9.180943 ; accuracy 0.68976665\n",
      "epoch 42 : loss 9.163915 ; accuracy 0.69028336\n",
      "epoch 43 : loss 9.146984 ; accuracy 0.69086665\n",
      "epoch 44 : loss 9.130155 ; accuracy 0.69116664\n",
      "epoch 45 : loss 9.113417 ; accuracy 0.6917167\n",
      "epoch 46 : loss 9.096777 ; accuracy 0.6921667\n",
      "epoch 47 : loss 9.080232 ; accuracy 0.69263333\n",
      "epoch 48 : loss 9.063779 ; accuracy 0.69308335\n",
      "epoch 49 : loss 9.047425 ; accuracy 0.69348335\n",
      "epoch 50 : loss 9.031169 ; accuracy 0.6939167\n",
      "epoch 51 : loss 9.015006 ; accuracy 0.69448334\n",
      "epoch 52 : loss 8.998934 ; accuracy 0.69486666\n",
      "epoch 53 : loss 8.982953 ; accuracy 0.69525\n",
      "epoch 54 : loss 8.967063 ; accuracy 0.6957167\n",
      "epoch 55 : loss 8.951256 ; accuracy 0.6961667\n",
      "epoch 56 : loss 8.935534 ; accuracy 0.69656664\n",
      "epoch 57 : loss 8.91989 ; accuracy 0.6969\n",
      "epoch 58 : loss 8.90433 ; accuracy 0.69738334\n",
      "epoch 59 : loss 8.888854 ; accuracy 0.6978833\n",
      "epoch 60 : loss 8.873461 ; accuracy 0.6983\n",
      "epoch 61 : loss 8.858148 ; accuracy 0.69855\n",
      "epoch 62 : loss 8.8429165 ; accuracy 0.69888335\n",
      "epoch 63 : loss 8.827766 ; accuracy 0.6993833\n",
      "epoch 64 : loss 8.812694 ; accuracy 0.6997667\n",
      "epoch 65 : loss 8.797698 ; accuracy 0.70015\n",
      "epoch 66 : loss 8.782783 ; accuracy 0.70053333\n",
      "epoch 67 : loss 8.767941 ; accuracy 0.70096666\n",
      "epoch 68 : loss 8.753176 ; accuracy 0.7013\n",
      "epoch 69 : loss 8.738489 ; accuracy 0.70155\n",
      "epoch 70 : loss 8.723878 ; accuracy 0.7019\n",
      "epoch 71 : loss 8.709342 ; accuracy 0.7022667\n",
      "epoch 72 : loss 8.694882 ; accuracy 0.70275\n",
      "epoch 73 : loss 8.680501 ; accuracy 0.70301664\n",
      "epoch 74 : loss 8.666196 ; accuracy 0.7033833\n",
      "epoch 75 : loss 8.651963 ; accuracy 0.70378333\n",
      "epoch 76 : loss 8.637797 ; accuracy 0.7043\n",
      "epoch 77 : loss 8.6237 ; accuracy 0.7047\n",
      "epoch 78 : loss 8.609673 ; accuracy 0.7050167\n",
      "epoch 79 : loss 8.595715 ; accuracy 0.70545\n",
      "epoch 80 : loss 8.581826 ; accuracy 0.7058333\n",
      "epoch 81 : loss 8.568006 ; accuracy 0.70633334\n",
      "epoch 82 : loss 8.554254 ; accuracy 0.7066333\n",
      "epoch 83 : loss 8.5405655 ; accuracy 0.7069\n",
      "epoch 84 : loss 8.526942 ; accuracy 0.7071\n",
      "epoch 85 : loss 8.513387 ; accuracy 0.70735\n",
      "epoch 86 : loss 8.499893 ; accuracy 0.70773333\n",
      "epoch 87 : loss 8.486465 ; accuracy 0.70811665\n",
      "epoch 88 : loss 8.4731 ; accuracy 0.7083333\n",
      "epoch 89 : loss 8.459799 ; accuracy 0.7087167\n",
      "epoch 90 : loss 8.446558 ; accuracy 0.7090667\n",
      "epoch 91 : loss 8.433377 ; accuracy 0.70925\n",
      "epoch 92 : loss 8.4202585 ; accuracy 0.70961666\n",
      "epoch 93 : loss 8.4072 ; accuracy 0.70988333\n",
      "epoch 94 : loss 8.394202 ; accuracy 0.7102\n",
      "epoch 95 : loss 8.381265 ; accuracy 0.7105\n",
      "epoch 96 : loss 8.368385 ; accuracy 0.71085\n",
      "epoch 97 : loss 8.355563 ; accuracy 0.7112833\n",
      "epoch 98 : loss 8.342797 ; accuracy 0.7115\n",
      "epoch 99 : loss 8.330083 ; accuracy 0.71178335\n",
      "test loss 7.8289547 ; accuracy 0.7188\n"
     ]
    }
   ],
   "source": [
    "train_data, test_data = mnist_dataset()\n",
    "for epoch in range(50):\n",
    "    loss, accuracy = train_one_step(model, optimizer, \n",
    "                                    tf.constant(train_data[0], dtype=tf.float32), \n",
    "                                    tf.constant(train_data[1], dtype=tf.int64))\n",
    "    print('epoch', epoch, ': loss', loss.numpy(), '; accuracy', accuracy.numpy())\n",
    "loss, accuracy = test(model, \n",
    "                      tf.constant(test_data[0], dtype=tf.float32), \n",
    "                      tf.constant(test_data[1], dtype=tf.int64))\n",
    "\n",
    "print('test loss', loss.numpy(), '; accuracy', accuracy.numpy())"
   ]
  }
 ],
 "metadata": {
  "kernelspec": {
   "display_name": "Python 3",
   "language": "python",
   "name": "python3"
  },
  "language_info": {
   "codemirror_mode": {
    "name": "ipython",
    "version": 3
   },
   "file_extension": ".py",
   "mimetype": "text/x-python",
   "name": "python",
   "nbconvert_exporter": "python",
   "pygments_lexer": "ipython3",
   "version": "3.8.16"
  }
 },
 "nbformat": 4,
 "nbformat_minor": 2
}
